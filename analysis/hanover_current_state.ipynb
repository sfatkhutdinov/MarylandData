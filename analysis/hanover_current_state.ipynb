{
 "cells": [
  {
   "cell_type": "markdown",
   "id": "89091591",
   "metadata": {},
   "source": [
    "# Current State of Hanover (ZCTA 21076)\n",
    "\n",
    "A Hanover-centric, reproducible data analysis using only official datasets. Media references are included for narrative context only (no numeric extraction).\n",
    "\n",
    "- Geography: ZCTA 21076 (Hanover, MD) as the primary unit\n",
    "- Comparisons: Howard County, Anne Arundel County, Maryland, United States (as available)\n",
    "- Time horizon: ACS 2019–2023 5-year estimates for ZCTA-level; 2024–2025 MD labor context\n",
    "- Reproducibility: All sources archived under `data/raw/` with URLs and retrieval timestamps; processed artifacts under `data/processed/`\n",
    "- Outputs: Figures in `output/figures/`, maps in `output/maps/`, and exported HTML report\n",
    "- Guardrails: No inferences; all quantitative claims trace to archived sources with methods and uncertainty noted"
   ]
  },
  {
   "cell_type": "code",
   "execution_count": 1,
   "id": "1702abf0",
   "metadata": {},
   "outputs": [
    {
     "name": "stdout",
     "output_type": "stream",
     "text": [
      "Note: you may need to restart the kernel to use updated packages.\n",
      "{\n",
      "  \"timestamp_utc\": \"2025-09-22T04:32:32.586373+00:00\",\n",
      "  \"python\": \"3.13.7 (main, Aug 14 2025, 11:12:11) [Clang 17.0.0 (clang-1700.3.19.1)]\",\n",
      "  \"platform\": \"macOS-26.0-arm64-arm-64bit-Mach-O\",\n",
      "  \"cwd\": \"/Users/stan/Library/Mobile Documents/com~apple~CloudDocs/Developer/MarylandData/analysis\"\n",
      "}\n",
      "{\n",
      "  \"timestamp_utc\": \"2025-09-22T04:32:32.586373+00:00\",\n",
      "  \"python\": \"3.13.7 (main, Aug 14 2025, 11:12:11) [Clang 17.0.0 (clang-1700.3.19.1)]\",\n",
      "  \"platform\": \"macOS-26.0-arm64-arm-64bit-Mach-O\",\n",
      "  \"cwd\": \"/Users/stan/Library/Mobile Documents/com~apple~CloudDocs/Developer/MarylandData/analysis\"\n",
      "}\n"
     ]
    }
   ],
   "source": [
    "# 1) Set Up Environment and Reproducibility\n",
    "%pip -q install pandas numpy geopandas shapely requests seaborn matplotlib statsmodels scikit-learn pandera folium\n",
    "\n",
    "import os, sys, platform, json, time, hashlib, random\n",
    "from datetime import datetime, timezone\n",
    "import numpy as np\n",
    "import pandas as pd\n",
    "import seaborn as sns\n",
    "import matplotlib.pyplot as plt\n",
    "\n",
    "# Optional: geopandas & folium\n",
    "import geopandas as gpd\n",
    "from shapely.geometry import shape, Polygon, mapping\n",
    "import folium\n",
    "\n",
    "# Styling and reproducibility\n",
    "np.random.seed(21076)\n",
    "random.seed(21076)\n",
    "plt.style.use('seaborn-v0_8-whitegrid')\n",
    "sns.set_palette('Set2')\n",
    "\n",
    "# Project paths\n",
    "ROOT = os.path.abspath(os.path.join(os.getcwd()))\n",
    "DATA_RAW = os.path.join(ROOT, 'data', 'raw')\n",
    "DATA_PROCESSED = os.path.join(ROOT, 'data', 'processed')\n",
    "OUTPUT_FIG = os.path.join(ROOT, 'output', 'figures')\n",
    "OUTPUT_MAP = os.path.join(ROOT, 'output', 'maps')\n",
    "for d in (DATA_RAW, DATA_PROCESSED, OUTPUT_FIG, OUTPUT_MAP):\n",
    "    os.makedirs(d, exist_ok=True)\n",
    "\n",
    "# Log environment metadata\n",
    "ENV_META = {\n",
    "    'timestamp_utc': datetime.now(timezone.utc).isoformat(),\n",
    "    'python': sys.version,\n",
    "    'platform': platform.platform(),\n",
    "    'cwd': os.getcwd(),\n",
    "}\n",
    "print(json.dumps(ENV_META, indent=2))\n"
   ]
  },
  {
   "cell_type": "markdown",
   "id": "9ca865dc",
   "metadata": {},
   "source": [
    "## 2) Define Primary Geography: Hanover Boundary and Metadata\n",
    "\n",
    "- Primary unit: ZCTA 21076\n",
    "- Target CRS: EPSG:4326 (WGS84) for storage; EPSG:26985 (NAD83 / Maryland) for area in meters → convert to km²\n",
    "- Output: `data/processed/hanover_boundary.geojson` with centroid and area stats saved to `data/processed/hanover_boundary_stats.json`\n",
    "- Provenance: Persist full TIGERweb request URL and retrieval timestamp in stats\n",
    "\n",
    "Next, we will also fetch:\n",
    "- ACS 2023 median gross rent (B25064_001E) for Hanover affordability context\n",
    "- 2020 Decennial PL population (P1_001N) to compute 2020→2023 growth using actual Census counts, not estimates."
   ]
  },
  {
   "cell_type": "code",
   "execution_count": 2,
   "id": "bb89f758",
   "metadata": {},
   "outputs": [
    {
     "data": {
      "text/html": [
       "<div>\n",
       "<style scoped>\n",
       "    .dataframe tbody tr th:only-of-type {\n",
       "        vertical-align: middle;\n",
       "    }\n",
       "\n",
       "    .dataframe tbody tr th {\n",
       "        vertical-align: top;\n",
       "    }\n",
       "\n",
       "    .dataframe thead th {\n",
       "        text-align: right;\n",
       "    }\n",
       "</style>\n",
       "<table border=\"1\" class=\"dataframe\">\n",
       "  <thead>\n",
       "    <tr style=\"text-align: right;\">\n",
       "      <th></th>\n",
       "      <th>geometry</th>\n",
       "      <th>AREALAND</th>\n",
       "      <th>AREAWATER</th>\n",
       "      <th>BASENAME</th>\n",
       "      <th>CENTLAT</th>\n",
       "      <th>CENTLON</th>\n",
       "      <th>FUNCSTAT</th>\n",
       "      <th>GEOID</th>\n",
       "      <th>HU100</th>\n",
       "      <th>INTPTLAT</th>\n",
       "      <th>INTPTLON</th>\n",
       "      <th>LSADC</th>\n",
       "      <th>MTFCC</th>\n",
       "      <th>NAME</th>\n",
       "      <th>OBJECTID</th>\n",
       "      <th>OID</th>\n",
       "      <th>POP100</th>\n",
       "      <th>ZCTA5</th>\n",
       "      <th>ZCTA5CC</th>\n",
       "    </tr>\n",
       "  </thead>\n",
       "  <tbody>\n",
       "    <tr>\n",
       "      <th>0</th>\n",
       "      <td>POLYGON ((-76.7671 39.16238, -76.76682 39.1622...</td>\n",
       "      <td>34039826</td>\n",
       "      <td>19407</td>\n",
       "      <td>21076</td>\n",
       "      <td>+39.1685435</td>\n",
       "      <td>-076.7223887</td>\n",
       "      <td>S</td>\n",
       "      <td>21076</td>\n",
       "      <td>9441</td>\n",
       "      <td>+39.1714019</td>\n",
       "      <td>-076.7233409</td>\n",
       "      <td>Z5</td>\n",
       "      <td>G6350</td>\n",
       "      <td>ZCTA5 21076</td>\n",
       "      <td>22704</td>\n",
       "      <td>221704257715385</td>\n",
       "      <td>22299</td>\n",
       "      <td>21076</td>\n",
       "      <td>B5</td>\n",
       "    </tr>\n",
       "  </tbody>\n",
       "</table>\n",
       "</div>"
      ],
      "text/plain": [
       "                                            geometry  AREALAND AREAWATER  \\\n",
       "0  POLYGON ((-76.7671 39.16238, -76.76682 39.1622...  34039826     19407   \n",
       "\n",
       "  BASENAME      CENTLAT       CENTLON FUNCSTAT  GEOID  HU100     INTPTLAT  \\\n",
       "0    21076  +39.1685435  -076.7223887        S  21076   9441  +39.1714019   \n",
       "\n",
       "       INTPTLON LSADC  MTFCC         NAME  OBJECTID              OID  POP100  \\\n",
       "0  -076.7233409    Z5  G6350  ZCTA5 21076     22704  221704257715385   22299   \n",
       "\n",
       "   ZCTA5 ZCTA5CC  \n",
       "0  21076      B5  "
      ]
     },
     "execution_count": 2,
     "metadata": {},
     "output_type": "execute_result"
    }
   ],
   "source": [
    "# Fetch ZCTA 21076 boundary via TIGER/ACS crosswalk (using Census TIGER Zip Code Tabulation Areas)\n",
    "# We avoid external calls if cached; persist to data/processed/ with CRS handling and provenance.\n",
    "\n",
    "import os, json\n",
    "from datetime import datetime, timezone\n",
    "import requests\n",
    "from urllib.parse import urlencode\n",
    "import geopandas as gpd\n",
    "from shapely.ops import unary_union\n",
    "\n",
    "ZCTA = '21076'\n",
    "\n",
    "boundary_path = os.path.join(DATA_PROCESSED, 'hanover_boundary.geojson')\n",
    "stats_path = os.path.join(DATA_PROCESSED, 'hanover_boundary_stats.json')\n",
    "\n",
    "if not os.path.exists(boundary_path):\n",
    "    # Use TIGERweb ZCTA sublayer (ID 11) under PUMA_TAD_TAZ_UGA_ZCTA service\n",
    "    arc_url = (\n",
    "        'https://tigerweb.geo.census.gov/arcgis/rest/services/TIGERweb/PUMA_TAD_TAZ_UGA_ZCTA/MapServer/11/query'\n",
    "    )\n",
    "    params = {\n",
    "        'where': f\"ZCTA5 = '{ZCTA}'\",\n",
    "        'outFields': '*',\n",
    "        'f': 'geojson',\n",
    "        'outSR': 4326,\n",
    "        'returnGeometry': 'true',\n",
    "    }\n",
    "    r = requests.get(arc_url, params=params, timeout=60)\n",
    "    r.raise_for_status()\n",
    "    gj = r.json()\n",
    "    if 'features' not in gj or len(gj['features']) == 0:\n",
    "        raise RuntimeError('No ZCTA features returned from TIGERweb for 21076')\n",
    "    with open(boundary_path, 'w') as f:\n",
    "        json.dump(gj, f)\n",
    "    request_url = r.url\n",
    "    fetched = True\n",
    "else:\n",
    "    with open(boundary_path, 'r') as f:\n",
    "        gj = json.load(f)\n",
    "    request_url = None\n",
    "    fetched = False\n",
    "\n",
    "# Build GeoDataFrame\n",
    "hanover_gdf = gpd.GeoDataFrame.from_features(gj['features'], crs='EPSG:4326')\n",
    "# Project for area calcs (NAD83 / Maryland meters)\n",
    "hanover_proj = hanover_gdf.to_crs('EPSG:26985')\n",
    "# Area in km^2 from m^2\n",
    "area_sqkm = float(hanover_proj.geometry.area.sum() / 1_000_000.0)\n",
    "# Robust centroid using unary_union, then convert to WGS84\n",
    "centroid_proj = unary_union(hanover_proj.geometry).centroid\n",
    "centroid_wgs84 = gpd.GeoSeries([centroid_proj], crs='EPSG:26985').to_crs('EPSG:4326').iloc[0]\n",
    "\n",
    "stats = {\n",
    "    'zcta': ZCTA,\n",
    "    'crs': 'EPSG:4326',\n",
    "    'projected_crs': 'EPSG:26985',\n",
    "    'area_sq_km': area_sqkm,\n",
    "    'centroid_lon': centroid_wgs84.x,\n",
    "    'centroid_lat': centroid_wgs84.y,\n",
    "    'source': 'Census TIGERweb ZCTA (PUMA_TAD_TAZ_UGA_ZCTA/11)',\n",
    "    'tigerweb_request_url': request_url,\n",
    "    'retrieved_at': datetime.now(timezone.utc).isoformat(),\n",
    "    'fetched_this_run': fetched,\n",
    "}\n",
    "with open(stats_path, 'w') as f:\n",
    "    json.dump(stats, f, indent=2)\n",
    "\n",
    "hanover_gdf.head(1)"
   ]
  },
  {
   "cell_type": "markdown",
   "id": "a25f86b6",
   "metadata": {},
   "source": [
    "## 3) ACS fetch helpers with caching and provenance\n",
    "We'll create tiny helpers to request ACS 5-year data for ZCTA 21076 (and later block groups), persist the raw JSON with a timestamp, and return tidy DataFrames with margins of error where available."
   ]
  },
  {
   "cell_type": "code",
   "execution_count": 3,
   "id": "6dcf37a8",
   "metadata": {},
   "outputs": [
    {
     "data": {
      "application/vnd.microsoft.datawrangler.viewer.v0+json": {
       "columns": [
        {
         "name": "index",
         "rawType": "int64",
         "type": "integer"
        },
        {
         "name": "B01003_001E",
         "rawType": "int64",
         "type": "integer"
        },
        {
         "name": "B19013_001E",
         "rawType": "int64",
         "type": "integer"
        },
        {
         "name": "zip code tabulation area",
         "rawType": "object",
         "type": "string"
        }
       ],
       "ref": "6f108778-932f-40b9-a1b7-cc5b49151309",
       "rows": [
        [
         "0",
         "23642",
         "143409",
         "21076"
        ]
       ],
       "shape": {
        "columns": 3,
        "rows": 1
       }
      },
      "text/html": [
       "<div>\n",
       "<style scoped>\n",
       "    .dataframe tbody tr th:only-of-type {\n",
       "        vertical-align: middle;\n",
       "    }\n",
       "\n",
       "    .dataframe tbody tr th {\n",
       "        vertical-align: top;\n",
       "    }\n",
       "\n",
       "    .dataframe thead th {\n",
       "        text-align: right;\n",
       "    }\n",
       "</style>\n",
       "<table border=\"1\" class=\"dataframe\">\n",
       "  <thead>\n",
       "    <tr style=\"text-align: right;\">\n",
       "      <th></th>\n",
       "      <th>B01003_001E</th>\n",
       "      <th>B19013_001E</th>\n",
       "      <th>zip code tabulation area</th>\n",
       "    </tr>\n",
       "  </thead>\n",
       "  <tbody>\n",
       "    <tr>\n",
       "      <th>0</th>\n",
       "      <td>23642</td>\n",
       "      <td>143409</td>\n",
       "      <td>21076</td>\n",
       "    </tr>\n",
       "  </tbody>\n",
       "</table>\n",
       "</div>"
      ],
      "text/plain": [
       "   B01003_001E  B19013_001E zip code tabulation area\n",
       "0        23642       143409                    21076"
      ]
     },
     "execution_count": 3,
     "metadata": {},
     "output_type": "execute_result"
    }
   ],
   "source": [
    "import time\n",
    "from pathlib import Path\n",
    "\n",
    "CENSUS_BASE = 'https://api.census.gov/data/2023/acs/acs5'\n",
    "ZCTA_GEO = 'zip code tabulation area:21076'\n",
    "\n",
    "RAW_DIR = Path(DATA_RAW)\n",
    "PROC_DIR = Path(DATA_PROCESSED)\n",
    "RAW_DIR.mkdir(parents=True, exist_ok=True)\n",
    "PROC_DIR.mkdir(parents=True, exist_ok=True)\n",
    "\n",
    "\n",
    "def acs_get(variables, base=CENSUS_BASE, geo=ZCTA_GEO, api_key=os.getenv('CENSUS_API_KEY'), note=None):\n",
    "    \"\"\"\n",
    "    Contract:\n",
    "    - inputs: variables (list[str]), base URL, geo string, optional API key\n",
    "    - output: dict with 'columns', 'rows', 'url', 'timestamp_utc'\n",
    "    - error modes: raises on HTTP or schema mismatch; retries 3x with backoff\n",
    "    \"\"\"\n",
    "    assert isinstance(variables, (list, tuple)) and variables, 'variables required'\n",
    "    params = {\n",
    "        'get': ','.join(variables),\n",
    "        'for': geo,\n",
    "    }\n",
    "    if api_key:\n",
    "        params['key'] = api_key\n",
    "    url = base + '?' + urlencode(params)\n",
    "\n",
    "    # retry\n",
    "    last_exc = None\n",
    "    for attempt in range(3):\n",
    "        try:\n",
    "            r = requests.get(base, params=params, timeout=60)\n",
    "            r.raise_for_status()\n",
    "            data = r.json()\n",
    "            if not isinstance(data, list) or len(data) < 2:\n",
    "                raise RuntimeError('Unexpected ACS response shape')\n",
    "            out = {\n",
    "                'columns': data[0],\n",
    "                'rows': data[1:],\n",
    "                'url': r.url,\n",
    "                'timestamp_utc': datetime.now(timezone.utc).isoformat(),\n",
    "                'note': note,\n",
    "            }\n",
    "            # persist raw\n",
    "            raw_name = f\"acs5_2023_{variables[0]}_{int(time.time())}.json\"\n",
    "            with open(RAW_DIR / raw_name, 'w') as f:\n",
    "                json.dump(out, f, indent=2)\n",
    "            return out\n",
    "        except Exception as e:\n",
    "            last_exc = e\n",
    "            time.sleep(1 + attempt)\n",
    "    raise last_exc\n",
    "\n",
    "\n",
    "def acs_to_df(payload):\n",
    "    cols = payload['columns']\n",
    "    df = pd.DataFrame(payload['rows'], columns=cols)\n",
    "    # coerce numerics where possible\n",
    "    for c in df.columns:\n",
    "        if c.endswith('E') or c.endswith('M'):\n",
    "            df[c] = pd.to_numeric(df[c], errors='coerce')\n",
    "    return df\n",
    "\n",
    "# Minimal smoke test: total population and median household income\n",
    "VARS_DEMO = ['B01003_001E', 'B19013_001E']\n",
    "raw = acs_get(VARS_DEMO, note='smoke-test ZCTA 21076')\n",
    "df_demo = acs_to_df(raw)\n",
    "df_demo"
   ]
  },
  {
   "cell_type": "code",
   "execution_count": 4,
   "id": "3d8f3ce4",
   "metadata": {},
   "outputs": [
    {
     "name": "stdout",
     "output_type": "stream",
     "text": [
      "ACS rent request URL: https://api.census.gov/data/2023/acs/acs5?get=B25064_001E&for=zip+code+tabulation+area%3A21076&key=49c7cb8a64fa2d5d754e347a492be7c5067e9575\n"
     ]
    },
    {
     "data": {
      "text/plain": [
       "(   B25064_001E zip code tabulation area\n",
       " 0         2337                    21076,\n",
       "   P1_001N zip code tabulation area\n",
       " 0   22299                    21076)"
      ]
     },
     "execution_count": 4,
     "metadata": {},
     "output_type": "execute_result"
    }
   ],
   "source": [
    "# Fetch ACS median gross rent and Decennial population with provenance\n",
    "VARS_RENT = ['B25064_001E']\n",
    "rent_raw = acs_get(VARS_RENT, note='median gross rent ZCTA 21076')\n",
    "rent_df = acs_to_df(rent_raw)\n",
    "print('ACS rent request URL:', rent_raw['url'])\n",
    "\n",
    "# Fetch 2020 Decennial DHC P1_001N for growth baseline (DHC supports ZCTA; PL does not)\n",
    "import requests\n",
    "from urllib.parse import urlencode\n",
    "\n",
    "DEC_BASE = 'https://api.census.gov/data/2020/dec/dhc'\n",
    "params_dec = {\n",
    "    'get': 'P1_001N',\n",
    "    'for': 'zip code tabulation area:21076',\n",
    "}\n",
    "if os.getenv('CENSUS_API_KEY'):\n",
    "    params_dec['key'] = os.getenv('CENSUS_API_KEY')\n",
    "\n",
    "r_dec = requests.get(DEC_BASE, params=params_dec, timeout=60)\n",
    "r_dec.raise_for_status()\n",
    "dec_data = r_dec.json()\n",
    "assert isinstance(dec_data, list) and len(dec_data) >= 2, 'Unexpected Decennial response'\n",
    "\n",
    "# Persist raw\n",
    "raw_name_dec = f\"decennial_2020_dhc_P1_001N_{int(time.time())}.json\"\n",
    "with open(RAW_DIR / raw_name_dec, 'w') as f:\n",
    "    json.dump({'columns': dec_data[0], 'rows': dec_data[1:], 'url': r_dec.url, 'timestamp_utc': datetime.now(timezone.utc).isoformat()}, f, indent=2)\n",
    "\n",
    "# Convert to DataFrame\n",
    "import pandas as pd\n",
    "dec_df = pd.DataFrame(dec_data[1:], columns=dec_data[0])\n",
    "rent_df, dec_df"
   ]
  },
  {
   "cell_type": "markdown",
   "id": "290a3ab7",
   "metadata": {},
   "source": [
    "## 4) ACS key variables: add median gross rent (B25064_001E) and Decennial baseline\n",
    "We extend our ACS helper usage to include median gross rent for ZCTA 21076 and also fetch 2020 Decennial PL (P1_001N) for a clean growth baseline. All raw payloads and request URLs are persisted under `data/raw/` with timestamps for reproducibility."
   ]
  },
  {
   "cell_type": "code",
   "execution_count": 5,
   "id": "569a7c92",
   "metadata": {},
   "outputs": [
    {
     "name": "stdout",
     "output_type": "stream",
     "text": [
      "Schema validated: ACS demo; boundary identifiers present: True\n"
     ]
    },
    {
     "name": "stderr",
     "output_type": "stream",
     "text": [
      "/Users/stan/Library/Mobile Documents/com~apple~CloudDocs/Developer/MarylandData/.venv/lib/python3.13/site-packages/pandera/_pandas_deprecated.py:149: FutureWarning: Importing pandas-specific classes and functions from the\n",
      "top-level pandera module will be **removed in a future version of pandera**.\n",
      "If you're using pandera to validate pandas objects, we highly recommend updating\n",
      "your import:\n",
      "\n",
      "```\n",
      "# old import\n",
      "import pandera as pa\n",
      "\n",
      "# new import\n",
      "import pandera.pandas as pa\n",
      "```\n",
      "\n",
      "If you're using pandera to validate objects from other compatible libraries\n",
      "like pyspark or polars, see the supported libraries section of the documentation\n",
      "for more information on how to import pandera:\n",
      "\n",
      "https://pandera.readthedocs.io/en/stable/supported_libraries.html\n",
      "\n",
      "To disable this warning, set the environment variable:\n",
      "\n",
      "```\n",
      "export DISABLE_PANDERA_IMPORT_WARNING=True\n",
      "```\n",
      "\n",
      "  warnings.warn(_future_warning, FutureWarning)\n"
     ]
    }
   ],
   "source": [
    "import pandera as pa\n",
    "from pandera import Column, DataFrameSchema\n",
    "\n",
    "# Define schemas for boundary stats and ACS demo output\n",
    "# Relax boundary validation: check for essential identifiers when present, not strict TIGER field names\n",
    "boundary_required_any = ['ZCTA5', 'GEOID', 'GEOID10', 'ZCTA5CE10']\n",
    "existing_cols = set(hanover_gdf.columns)\n",
    "required_present = any(col in existing_cols for col in boundary_required_any)\n",
    "if not required_present:\n",
    "    raise ValueError(f\"Boundary lacks expected identifier columns: any of {boundary_required_any}\")\n",
    "\n",
    "# Keep ACS schema strict\n",
    "acs_demo_schema = DataFrameSchema({\n",
    "    'B01003_001E': Column(float, nullable=True, coerce=True),\n",
    "    'B19013_001E': Column(float, nullable=True, coerce=True),\n",
    "    'zip code tabulation area': Column(str, nullable=False),\n",
    "})\n",
    "\n",
    "# Validate ACS (coerce to float for estimates)\n",
    "_ = acs_demo_schema.validate(df_demo)\n",
    "print('Schema validated: ACS demo; boundary identifiers present:', required_present)"
   ]
  },
  {
   "cell_type": "code",
   "execution_count": 6,
   "id": "637d6644",
   "metadata": {},
   "outputs": [
    {
     "name": "stdout",
     "output_type": "stream",
     "text": [
      "DATA_PROCESSED current: /Users/stan/Library/Mobile Documents/com~apple~CloudDocs/Developer/MarylandData/analysis/data/processed\n",
      "Repo-root processed: /Users/stan/Library/Mobile Documents/com~apple~CloudDocs/Developer/MarylandData/data/processed\n",
      "Repointed DATA_PROCESSED to /Users/stan/Library/Mobile Documents/com~apple~CloudDocs/Developer/MarylandData/data/processed moved: []\n"
     ]
    }
   ],
   "source": [
    "# Path correction: ensure we write under repo-root data/processed, not analysis/data/processed\n",
    "from pathlib import Path\n",
    "\n",
    "def find_repo_root(start: Path) -> Path:\n",
    "    cur = start\n",
    "    for _ in range(5):  # climb a few levels at most\n",
    "        if (cur / 'README.md').exists() and (cur / 'data').exists():\n",
    "            return cur\n",
    "        cur = cur.parent\n",
    "    return start\n",
    "\n",
    "repo_root = find_repo_root(Path.cwd())\n",
    "correct_proc = repo_root / 'data' / 'processed'\n",
    "print('DATA_PROCESSED current:', DATA_PROCESSED)\n",
    "print('Repo-root processed:', correct_proc)\n",
    "\n",
    "# If current DATA_PROCESSED points inside analysis/, switch to root-level path\n",
    "if 'analysis/data/processed' in str(DATA_PROCESSED) or Path(DATA_PROCESSED).resolve() != correct_proc.resolve():\n",
    "    DATA_PROCESSED = str(correct_proc)\n",
    "    os.makedirs(DATA_PROCESSED, exist_ok=True)\n",
    "    # Move boundary artifacts if they exist under analysis/data/processed\n",
    "    src_dir = Path.cwd() / 'data' / 'processed'\n",
    "    moved = []\n",
    "    for name in ('hanover_boundary.geojson', 'hanover_boundary_stats.json'):\n",
    "        src = src_dir / name\n",
    "        dst = correct_proc / name\n",
    "        if src.exists() and not dst.exists():\n",
    "            src.replace(dst)\n",
    "            moved.append(name)\n",
    "    print('Repointed DATA_PROCESSED to', DATA_PROCESSED, 'moved:', moved)\n",
    "else:\n",
    "    print('DATA_PROCESSED already at repo-root path.')"
   ]
  },
  {
   "cell_type": "code",
   "execution_count": 7,
   "id": "bb9b2bb4",
   "metadata": {},
   "outputs": [
    {
     "name": "stdout",
     "output_type": "stream",
     "text": [
      "Wrote catalog seeds to /Users/stan/Library/Mobile Documents/com~apple~CloudDocs/Developer/MarylandData/analysis/data/raw/mdot_catalog_seeds.json\n"
     ]
    }
   ],
   "source": [
    "# Persist MDOT/Open Data catalog seeds for reproducibility\n",
    "from datetime import datetime, timezone\n",
    "import json, os\n",
    "\n",
    "mdot_catalog = {\n",
    "    'timestamp_utc': datetime.now(timezone.utc).isoformat(),\n",
    "    'note': 'Seed datasets relevant to Maryland transportation context; provenance only, no numeric use here.',\n",
    "    'datasets': [\n",
    "        {\n",
    "            'id': '8hpm-qsj3',\n",
    "            'title': 'MDOT Performance Dashboard - Annual Data',\n",
    "            'portal': 'opendata.maryland.gov',\n",
    "            'link': 'https://opendata.maryland.gov/d/8hpm-qsj3'\n",
    "        },\n",
    "        {\n",
    "            'id': 'exua-btti',\n",
    "            'title': 'Maryland Annual Vehicle Miles of Travel',\n",
    "            'portal': 'opendata.maryland.gov',\n",
    "            'link': 'https://opendata.maryland.gov/d/exua-btti'\n",
    "        },\n",
    "        {\n",
    "            'id': 'amgn-fptx',\n",
    "            'title': 'SHA Districts by County',\n",
    "            'portal': 'opendata.maryland.gov',\n",
    "            'link': 'https://opendata.maryland.gov/d/amgn-fptx'\n",
    "        }\n",
    "    ]\n",
    "}\n",
    "seed_path = os.path.join(DATA_RAW, 'mdot_catalog_seeds.json')\n",
    "with open(seed_path, 'w') as f:\n",
    "    json.dump(mdot_catalog, f, indent=2)\n",
    "print('Wrote catalog seeds to', seed_path)"
   ]
  },
  {
   "cell_type": "code",
   "execution_count": 8,
   "id": "e2fd9f00",
   "metadata": {},
   "outputs": [
    {
     "name": "stdout",
     "output_type": "stream",
     "text": [
      "Boundary stats keys present: ['area_sq_km', 'centroid_lat', 'centroid_lon', 'crs', 'fetched_this_run', 'projected_crs', 'retrieved_at', 'source'] ...\n"
     ]
    }
   ],
   "source": [
    "# Validate boundary stats provenance keys exist\n",
    "import json, os\n",
    "stats_path = os.path.join(DATA_PROCESSED, 'hanover_boundary_stats.json')\n",
    "with open(stats_path, 'r') as f:\n",
    "    stats_loaded = json.load(f)\n",
    "req_keys = ['tigerweb_request_url', 'retrieved_at', 'fetched_this_run', 'area_sq_km', 'centroid_lon', 'centroid_lat']\n",
    "missing = [k for k in req_keys if k not in stats_loaded]\n",
    "print('Boundary stats keys present:', sorted(set(stats_loaded.keys()))[:8], '...')\n",
    "assert not missing, f\"Missing provenance keys in stats: {missing}\""
   ]
  }
 ],
 "metadata": {
  "kernelspec": {
   "display_name": ".venv (3.13.7)",
   "language": "python",
   "name": "python3"
  },
  "language_info": {
   "codemirror_mode": {
    "name": "ipython",
    "version": 3
   },
   "file_extension": ".py",
   "mimetype": "text/x-python",
   "name": "python",
   "nbconvert_exporter": "python",
   "pygments_lexer": "ipython3",
   "version": "3.13.7"
  }
 },
 "nbformat": 4,
 "nbformat_minor": 5
}
